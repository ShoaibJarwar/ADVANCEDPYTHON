{
 "cells": [
  {
   "cell_type": "markdown",
   "id": "3a838874",
   "metadata": {},
   "source": [
    "# Object-Oriented Programming in Python 🐍\n",
    "\n",
    "This notebook demonstrates core OOP concepts in Python:\n",
    "- Classes & Objects\n",
    "- Inheritance\n",
    "- Magic Methods (`__str__`, `__len__`)\n",
    "- Encapsulation\n",
    "- Polymorphism\n",
    "\n",
    "We'll use a geometric shape example to illustrate each.\n"
   ]
  },
  {
   "cell_type": "code",
   "execution_count": null,
   "id": "8d1d06ea",
   "metadata": {},
   "outputs": [],
   "source": [
    "class Shape:\n",
    "    \"\"\"Base class for all shapes.\"\"\"\n",
    "\n",
    "    def __init__(self, name):\n",
    "        self.name = name\n",
    "\n",
    "    def area(self):\n",
    "        raise NotImplementedError(\"Area method must be overridden\")\n",
    "\n",
    "    def __str__(self):\n",
    "        return f\"A shape named {self.name}\"\n"
   ]
  },
  {
   "cell_type": "code",
   "execution_count": null,
   "id": "5f464e6b",
   "metadata": {},
   "outputs": [],
   "source": [
    "class Circle(Shape):\n",
    "    \"\"\"Represents a circle.\"\"\"\n",
    "\n",
    "    def __init__(self, radius):\n",
    "        super().__init__(\"Circle\")\n",
    "        self.radius = radius\n",
    "\n",
    "    def area(self):\n",
    "        return 3.14 * self.radius ** 2\n",
    "\n",
    "    def __str__(self):\n",
    "        return f\"{self.name} with radius {self.radius}\"\n",
    "\n",
    "\n",
    "class Rectangle(Shape):\n",
    "    \"\"\"Represents a rectangle.\"\"\"\n",
    "\n",
    "    def __init__(self, width, height):\n",
    "        super().__init__(\"Rectangle\")\n",
    "        self.width = width\n",
    "        self.height = height\n",
    "\n",
    "    def area(self):\n",
    "        return self.width * self.height\n",
    "\n",
    "    def __str__(self):\n",
    "        return f\"{self.name} with width {self.width} and height {self.height}\"\n"
   ]
  },
  {
   "cell_type": "code",
   "execution_count": null,
   "id": "1aeb4370",
   "metadata": {},
   "outputs": [],
   "source": [
    "shapes = [Circle(5), Rectangle(4, 6)]\n",
    "\n",
    "for shape in shapes:\n",
    "    print(shape)\n",
    "    print(\"Area:\", shape.area())\n",
    "    print(\"-\" * 20)\n"
   ]
  },
  {
   "cell_type": "code",
   "execution_count": null,
   "id": "357db690",
   "metadata": {},
   "outputs": [],
   "source": [
    "print(str(Circle(3)))     # Calls __str__"
   ]
  },
  {
   "cell_type": "code",
   "execution_count": null,
   "id": "fa3decf5",
   "metadata": {},
   "outputs": [],
   "source": [
    "class SecretShape:\n",
    "    def __init__(self):\n",
    "        self.public_info = \"I am visible\"\n",
    "        self._protected_info = \"I should be used carefully\"\n",
    "        self.__private_info = \"I am hidden\"\n",
    "\n",
    "    def reveal_private(self):\n",
    "        return self.__private_info\n",
    "\n",
    "\n",
    "s = SecretShape() \n",
    "print(s.public_info)\n",
    "print(s._protected_info)\n",
    "# print(s.__private_info)  # Uncommenting this will raise AttributeError\n",
    "print(s.reveal_private())  # Access private data via method\n"
   ]
  },
  {
   "cell_type": "markdown",
   "id": "bb483bf0",
   "metadata": {},
   "source": [
    "## Summary\n",
    "\n",
    "- `Inheritance` allows sharing behavior between classes\n",
    "- `Magic methods` like `__str__` customize how objects behave\n",
    "- `Encapsulation` restricts access to internal variables\n",
    "- `Polymorphism` enables unified interfaces across classes\n",
    "\n",
    "Use OOP to structure larger programs with clarity and reuse.\n"
   ]
  }
 ],
 "metadata": {
  "language_info": {
   "name": "python"
  }
 },
 "nbformat": 4,
 "nbformat_minor": 5
}
